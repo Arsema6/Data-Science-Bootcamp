{
  "nbformat": 4,
  "nbformat_minor": 0,
  "metadata": {
    "colab": {
      "provenance": [],
      "authorship_tag": "ABX9TyNVI2v8BoZh9zjGAdYn/emy",
      "include_colab_link": true
    },
    "kernelspec": {
      "name": "python3",
      "display_name": "Python 3"
    },
    "language_info": {
      "name": "python"
    }
  },
  "cells": [
    {
      "cell_type": "markdown",
      "metadata": {
        "id": "view-in-github",
        "colab_type": "text"
      },
      "source": [
        "<a href=\"https://colab.research.google.com/github/Arsema6/Data-Science-Bootcamp/blob/1/1.ipynb\" target=\"_parent\"><img src=\"https://colab.research.google.com/assets/colab-badge.svg\" alt=\"Open In Colab\"/></a>"
      ]
    },
    {
      "cell_type": "code",
      "execution_count": 3,
      "metadata": {
        "colab": {
          "base_uri": "https://localhost:8080/"
        },
        "id": "fad6u7lmx-lx",
        "outputId": "22fb3617-fcf6-474e-80f4-d24a197a7f0c"
      },
      "outputs": [
        {
          "output_type": "stream",
          "name": "stdout",
          "text": [
            "List= [1, 2, 3, 4]\n",
            "Dictionary = {'A': 2, 'B': 3, 'C': 3}\n",
            "num =  [1 2 3]\n"
          ]
        }
      ],
      "source": [
        "import numpy as np\n",
        "li = [1,2,3,4]\n",
        "d = {'A':2, 'B': 3,'C':3}\n",
        "nump = np.array((1,2,3))\n",
        "print(\"List=\",li)\n",
        "print(\"Dictionary =\",d)\n",
        "print(\"num = \",nump)"
      ]
    },
    {
      "cell_type": "markdown",
      "source": [
        "List\n",
        "\n",
        "*   Is a collection of data with the same data type.\n",
        "*   Elements can be easily accessed using their index.\n",
        "\n",
        "Dictionary:\n",
        "\n",
        "*   Collection of key-value pairs.\n",
        "*   accessed using key.\n",
        "\n",
        "NumPy array:\n",
        "\n",
        "*   A grid of values all of the same type.\n",
        "*   Elements can be easily accessed using their index.\n",
        "\n",
        "\n",
        "\n"
      ],
      "metadata": {
        "id": "mvpY9KE84CFk"
      }
    }
  ]
}