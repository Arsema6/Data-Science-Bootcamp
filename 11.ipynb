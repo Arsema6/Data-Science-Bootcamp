{
  "nbformat": 4,
  "nbformat_minor": 0,
  "metadata": {
    "colab": {
      "provenance": [],
      "authorship_tag": "ABX9TyOwZfuWzPs5qabuDqRJnQLk",
      "include_colab_link": true
    },
    "kernelspec": {
      "name": "python3",
      "display_name": "Python 3"
    },
    "language_info": {
      "name": "python"
    }
  },
  "cells": [
    {
      "cell_type": "markdown",
      "metadata": {
        "id": "view-in-github",
        "colab_type": "text"
      },
      "source": [
        "<a href=\"https://colab.research.google.com/github/Arsema6/Data-Science-Bootcamp/blob/1/11.ipynb\" target=\"_parent\"><img src=\"https://colab.research.google.com/assets/colab-badge.svg\" alt=\"Open In Colab\"/></a>"
      ]
    },
    {
      "cell_type": "code",
      "execution_count": null,
      "metadata": {
        "id": "KiksaKw_5ngN"
      },
      "outputs": [],
      "source": []
    },
    {
      "cell_type": "markdown",
      "source": [
        "Missing data can significantly impact results in various real-world scenarios, leading to biased or inaccurate conclusions. Two examples include:\n",
        "1. Survey Research:\n",
        "If certain groups of people consistently skip specific questions, the survey results may not accurately represent the population being studied. For example, if younger participants are more likely to avoid questions about income, the analysis might misrepresent the income distribution of the population.\n",
        "This type of missing data can introduce bias, as the missing data is not randomly distributed and is related to the characteristics of the people who chose to skip the questions.\n",
        "2. Clinical Trials:\n",
        "In clinical trials, if patients drop out of the study before completing the treatment or follow-up, the results may be skewed. For instance, if patients with severe side effects are more likely to withdraw, the analysis might overestimate the efficacy of the treatment.\n",
        "This missing data can lead to biased estimates of treatment effectiveness and potentially harmful conclusions.\n",
        "In both examples, the missing data violates the assumption of random sampling, leading to potential biases in the analysis and making the conclusions unreliable."
      ],
      "metadata": {
        "id": "CB7wwe8Z59yf"
      }
    }
  ]
}