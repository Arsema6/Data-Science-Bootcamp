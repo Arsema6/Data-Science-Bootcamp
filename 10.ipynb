{
  "nbformat": 4,
  "nbformat_minor": 0,
  "metadata": {
    "colab": {
      "provenance": [],
      "authorship_tag": "ABX9TyNtW/sOux2o79Dc7qI7bsl2",
      "include_colab_link": true
    },
    "kernelspec": {
      "name": "python3",
      "display_name": "Python 3"
    },
    "language_info": {
      "name": "python"
    }
  },
  "cells": [
    {
      "cell_type": "markdown",
      "metadata": {
        "id": "view-in-github",
        "colab_type": "text"
      },
      "source": [
        "<a href=\"https://colab.research.google.com/github/Arsema6/Data-Science-Bootcamp/blob/1/10.ipynb\" target=\"_parent\"><img src=\"https://colab.research.google.com/assets/colab-badge.svg\" alt=\"Open In Colab\"/></a>"
      ]
    },
    {
      "cell_type": "code",
      "execution_count": 12,
      "metadata": {
        "colab": {
          "base_uri": "https://localhost:8080/"
        },
        "id": "qmApktULuOXU",
        "outputId": "b56e6fe5-6001-452b-e4ca-6b210ca72cb5"
      },
      "outputs": [
        {
          "output_type": "stream",
          "name": "stdout",
          "text": [
            "0.6324555320336759\n",
            "36.69005314795824\n"
          ]
        }
      ],
      "source": [
        "import numpy as np\n",
        "\n",
        "a = [9, 10, 10, 11, 10]  #low_std\n",
        "mean = np.mean(a)\n",
        "std_dev1 = np.std(a)\n",
        "b = [1, 5, 20, 50, 100]  #high_std\n",
        "mean = np.mean(b)\n",
        "std_dev2 = np.std(high_std)\n",
        "print(std_dev1)\n",
        "print(std_dev2)"
      ]
    },
    {
      "cell_type": "markdown",
      "source": [
        " High deviation: a measure of the amount of variation of the values of a variable about its mean which indicates that the values are spread out over a wider range.\n",
        "\n",
        "if a column has a high standard deviation, It means that the data points in a column are spread out widely from the mean (average).\n"
      ],
      "metadata": {
        "id": "ag_N3jb2xBZN"
      }
    }
  ]
}