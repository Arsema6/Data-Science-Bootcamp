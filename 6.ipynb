{
  "nbformat": 4,
  "nbformat_minor": 0,
  "metadata": {
    "colab": {
      "provenance": [],
      "authorship_tag": "ABX9TyPKAdXEUzKRER3vSwreCvLL",
      "include_colab_link": true
    },
    "kernelspec": {
      "name": "python3",
      "display_name": "Python 3"
    },
    "language_info": {
      "name": "python"
    }
  },
  "cells": [
    {
      "cell_type": "markdown",
      "metadata": {
        "id": "view-in-github",
        "colab_type": "text"
      },
      "source": [
        "<a href=\"https://colab.research.google.com/github/Arsema6/Data-Science-Bootcamp/blob/1/6.ipynb\" target=\"_parent\"><img src=\"https://colab.research.google.com/assets/colab-badge.svg\" alt=\"Open In Colab\"/></a>"
      ]
    },
    {
      "cell_type": "code",
      "execution_count": null,
      "metadata": {
        "id": "7HhNTAnq6SSq"
      },
      "outputs": [],
      "source": [
        "import pandas as pd\n",
        "\n",
        "df = pd.read_csv(\"airtravel (1).csv\")\n",
        "\n",
        "max_passengers_month = df.loc[df['# of Passengers'].idxmax(), 'Month']\n",
        "\n",
        "print(\"Month with highest total passengers:\", max_passengers_month)\n",
        "\n",
        "df_1958 = df[df['Month'].str.endswith('58')]\n",
        "min_passengers_month_1958 = df_1958.loc[df_1958['# of Passengers'].idxmin(), 'Month']\n",
        "\n",
        "print(\"Month with lowest passengers in 1958:\", min_passengers_month_1958)"
      ]
    },
    {
      "cell_type": "markdown",
      "source": [
        "df['# of Passengers'].idxmax(): This line finds the index (row number) of the row containing the maximum value in the '# of Passengers' column.\n",
        "df.loc[...]: This line uses the index obtained in the previous step to locate the corresponding row in the DataFrame and then extracts the value from the 'Month' column.\n",
        "Step 3: Find the month with the lowest passengers in 1958\n",
        "\n",
        "\n",
        "df[df['Month'].str.endswith('58')]: This line filters the DataFrame to include only rows where the 'Month' value ends with '58', representing the year 1958.\n",
        "df_1958['# of Passengers'].idxmin(): This line finds the index (row number) of the row containing the minimum value in the '# of Passengers' column within the filtered data for 1958.\n",
        "df_1958.loc[...]: This line uses the index obtained in the previous step to locate the corresponding row in the filtered DataFrame and then extracts the value from the 'Month' column."
      ],
      "metadata": {
        "id": "e7RzoQDQ7NrJ"
      }
    }
  ]
}