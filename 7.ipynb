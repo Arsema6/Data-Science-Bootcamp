{
  "nbformat": 4,
  "nbformat_minor": 0,
  "metadata": {
    "colab": {
      "provenance": [],
      "authorship_tag": "ABX9TyMW7KObQO0Wd1ukjlVPryy3",
      "include_colab_link": true
    },
    "kernelspec": {
      "name": "python3",
      "display_name": "Python 3"
    },
    "language_info": {
      "name": "python"
    }
  },
  "cells": [
    {
      "cell_type": "markdown",
      "metadata": {
        "id": "view-in-github",
        "colab_type": "text"
      },
      "source": [
        "<a href=\"https://colab.research.google.com/github/Arsema6/Data-Science-Bootcamp/blob/1/7.ipynb\" target=\"_parent\"><img src=\"https://colab.research.google.com/assets/colab-badge.svg\" alt=\"Open In Colab\"/></a>"
      ]
    },
    {
      "cell_type": "code",
      "execution_count": 6,
      "metadata": {
        "colab": {
          "base_uri": "https://localhost:8080/"
        },
        "id": "a2nBsSXw8wg1",
        "outputId": "5d197e36-4794-4e74-85f8-492f4ee4e086"
      },
      "outputs": [
        {
          "output_type": "stream",
          "name": "stdout",
          "text": [
            "Grade\n",
            "A     6\n",
            "B    11\n",
            "Name: credit hour, dtype: int64\n"
          ]
        }
      ],
      "source": [
        "import pandas as pd\n",
        "\n",
        "# Create dummy sales data\n",
        "data = {'Course': ['Signal','Circuit', 'Computational', 'EMF', 'Linear Algebra'],\n",
        "        'Grade': ['A', 'B', 'B', 'A',  'B'],\n",
        "        'credit hour': [3, 4, 4, 3, 3]}\n",
        "\n",
        "df = pd.DataFrame(data)\n",
        "\n",
        "# Group by 'Region' and calculate total sales for each region\n",
        "point = df.groupby('Grade')['credit hour'].sum()\n",
        "\n",
        "print(point)"
      ]
    },
    {
      "cell_type": "markdown",
      "source": [
        "**.groupby() :**\n",
        "*   used to split a DataFrame into groups based on the values in one or more columns.\n",
        "\n",
        "*    allows you to perform calculations and analysis on each group separately.\n",
        "\n",
        "\n",
        "\n"
      ],
      "metadata": {
        "id": "Nb0ZzbnX8xh5"
      }
    }
  ]
}