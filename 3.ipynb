{
  "nbformat": 4,
  "nbformat_minor": 0,
  "metadata": {
    "colab": {
      "provenance": [],
      "authorship_tag": "ABX9TyPCe86lgWy2O+922/GMAWs0",
      "include_colab_link": true
    },
    "kernelspec": {
      "name": "python3",
      "display_name": "Python 3"
    },
    "language_info": {
      "name": "python"
    }
  },
  "cells": [
    {
      "cell_type": "markdown",
      "metadata": {
        "id": "view-in-github",
        "colab_type": "text"
      },
      "source": [
        "<a href=\"https://colab.research.google.com/github/Arsema6/Data-Science-Bootcamp/blob/1/3.ipynb\" target=\"_parent\"><img src=\"https://colab.research.google.com/assets/colab-badge.svg\" alt=\"Open In Colab\"/></a>"
      ]
    },
    {
      "cell_type": "code",
      "execution_count": 3,
      "metadata": {
        "colab": {
          "base_uri": "https://localhost:8080/"
        },
        "id": "XWhodHO-R1OG",
        "outputId": "7df938c1-c209-45fd-a3b5-7028e615e7b9"
      },
      "outputs": [
        {
          "output_type": "stream",
          "name": "stdout",
          "text": [
            "[1, 2, 3, 4]\n"
          ]
        }
      ],
      "source": [
        "x = [1,2,3]\n",
        "y = x\n",
        "y.append(4)\n",
        "print(x)"
      ]
    },
    {
      "cell_type": "markdown",
      "source": [
        "x = [1, 2, 3] #creates a list object and assigns it to variable x.\n",
        "\n",
        "y = x  # both x and y now reference the same list in memory.\n",
        "\n",
        "y.append(4) #modifies the list by adding 4 to it.\n",
        "\n",
        "Since both x and y refer to the same list, printing x will show the modified list [1, 2, 3, 4]."
      ],
      "metadata": {
        "id": "0nPFoRoxSk63"
      }
    }
  ]
}