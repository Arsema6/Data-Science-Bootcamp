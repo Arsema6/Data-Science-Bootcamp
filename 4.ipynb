{
  "nbformat": 4,
  "nbformat_minor": 0,
  "metadata": {
    "colab": {
      "provenance": [],
      "authorship_tag": "ABX9TyNOuZM84c9YTu8EZDEi2WKd",
      "include_colab_link": true
    },
    "kernelspec": {
      "name": "python3",
      "display_name": "Python 3"
    },
    "language_info": {
      "name": "python"
    }
  },
  "cells": [
    {
      "cell_type": "markdown",
      "metadata": {
        "id": "view-in-github",
        "colab_type": "text"
      },
      "source": [
        "<a href=\"https://colab.research.google.com/github/Arsema6/Data-Science-Bootcamp/blob/1/4.ipynb\" target=\"_parent\"><img src=\"https://colab.research.google.com/assets/colab-badge.svg\" alt=\"Open In Colab\"/></a>"
      ]
    },
    {
      "cell_type": "code",
      "execution_count": null,
      "metadata": {
        "colab": {
          "base_uri": "https://localhost:8080/"
        },
        "id": "8DjHwaVrS7-Z",
        "outputId": "e69424c9-7ce0-4903-80cd-5f8fd7dd660a"
      },
      "outputs": [
        {
          "output_type": "stream",
          "name": "stdout",
          "text": [
            "(3, 2)\n",
            "             age\n",
            "count   3.000000\n",
            "mean   27.666667\n",
            "std     2.516611\n",
            "min    25.000000\n",
            "25%    26.500000\n",
            "50%    28.000000\n",
            "75%    29.000000\n",
            "max    30.000000\n"
          ]
        }
      ],
      "source": [
        " #What does .shape and .describe() tell you about a pandas DataFrame? Show using an example.\n",
        " import pandas as pd\n",
        "\n",
        "data = {'name': ['Alice', 'Bob', 'Charlie'],\n",
        "        'age': [25, 30, 28]}\n",
        "df = pd.DataFrame(data)\n",
        "\n",
        "print(df.shape)  # Output: (3, 2)\n",
        "                 # This means the DataFrame has 3 rows and 2 columns.\n",
        "print(df.describe()) \"\"\"Output:\n",
        "             age\n",
        "count   3.000000\n",
        "mean   27.666667\n",
        "std     2.516611\n",
        "min    25.000000\n",
        "25%    26.500000\n",
        "50%    28.000000\n",
        "75%    29.000000\n",
        "max    30.000000\"\"\"\n"
      ]
    },
    {
      "cell_type": "markdown",
      "source": [
        "**.shape:** It returns the dimensions of the DataFrame as a tuple (number of rows, number of columns).\n",
        "\n",
        "**.describe():** It generates descriptive statistics of the numerical columns in the DataFrame (like count, mean, standard deviation, min, max, etc.)."
      ],
      "metadata": {
        "id": "xjTMIUJrUHZa"
      }
    }
  ]
}