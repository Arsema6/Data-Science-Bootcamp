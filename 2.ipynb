{
  "nbformat": 4,
  "nbformat_minor": 0,
  "metadata": {
    "colab": {
      "provenance": [],
      "authorship_tag": "ABX9TyN32IYEupNbOZZi2XBW12FK",
      "include_colab_link": true
    },
    "kernelspec": {
      "name": "python3",
      "display_name": "Python 3"
    },
    "language_info": {
      "name": "python"
    }
  },
  "cells": [
    {
      "cell_type": "markdown",
      "metadata": {
        "id": "view-in-github",
        "colab_type": "text"
      },
      "source": [
        "<a href=\"https://colab.research.google.com/github/Arsema6/Data-Science-Bootcamp/blob/1/Untitled2.ipynb\" target=\"_parent\"><img src=\"https://colab.research.google.com/assets/colab-badge.svg\" alt=\"Open In Colab\"/></a>"
      ]
    },
    {
      "cell_type": "code",
      "execution_count": null,
      "metadata": {
        "id": "adHkZ2PGP6Kk"
      },
      "outputs": [],
      "source": [
        "#Given the list [10, 15, 20, 25, 30], write a function that returns the square of only even numbers.\n",
        "def even_square(nums):\n",
        "  res = []\n",
        "  for num in nums:\n",
        "    if num % 2 == 0:\n",
        "      res.append(num**2)\n",
        "  return res\n",
        "\n",
        "print(even_square([10, 15, 20, 25, 30]))\n"
      ]
    },
    {
      "cell_type": "markdown",
      "source": [
        "even_square: This function takes a list of numbers and returns the square of only even numbers.\n",
        "\n",
        "Argument: A list of numbers called nums.\n",
        "\n",
        "for-loop: if num is even we append the square of num into res.\n",
        "\n",
        "Returns: A list containing the squares of only the even numbers."
      ],
      "metadata": {
        "id": "u2UlY0X4Q7a-"
      }
    }
  ]
}
